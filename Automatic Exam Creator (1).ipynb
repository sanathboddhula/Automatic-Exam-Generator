{
 "cells": [
  {
   "cell_type": "code",
   "execution_count": 137,
   "id": "0551fcc3",
   "metadata": {},
   "outputs": [],
   "source": [
    "import os\n",
    "import openai"
   ]
  },
  {
   "cell_type": "code",
   "execution_count": 138,
   "id": "f4f61136",
   "metadata": {},
   "outputs": [],
   "source": [
    "openai.api_key = os.getenv(\"API_KEY\")"
   ]
  },
  {
   "cell_type": "code",
   "execution_count": 139,
   "id": "c2d535a0",
   "metadata": {},
   "outputs": [],
   "source": [
    "def create_test_prompt(topic, num_questions, num_possible_answers):\n",
    "    prompt = f\"Create a multiple choice quiz on the topic of {topic} consisting of {num_questions} questions. \"\\\n",
    "            f\"Each question should have {num_possible_answers} options. \"\\\n",
    "            f\"Also include the correct answer for each question using the starting string 'Correct Answer:'.\"\\\n",
    "            \"Format the quiz in an exam format.\"\n",
    "    return prompt"
   ]
  },
  {
   "cell_type": "code",
   "execution_count": 140,
   "id": "d79e3728",
   "metadata": {},
   "outputs": [],
   "source": [
    "response = openai.Completion.create(\n",
    "    engine = \"text-davinci-003\",\n",
    "    prompt = create_test_prompt(\"Python\", 4, 4),\n",
    "    max_tokens = 330,\n",
    "    temperature = .7)"
   ]
  },
  {
   "cell_type": "code",
   "execution_count": 141,
   "id": "8ca7d761",
   "metadata": {},
   "outputs": [
    {
     "name": "stdout",
     "output_type": "stream",
     "text": [
      "\n",
      "\n",
      "Python Quiz\n",
      "\n",
      "1. What is the correct way to write a comment in Python?\n",
      "A. #This is a comment\n",
      "B. /This is a comment\n",
      "C. *This is a comment\n",
      "D. !This is a comment\n",
      "Correct Answer: A. #This is a comment \n",
      "\n",
      "2. What does the following code output? \n",
      "print(4*4)\n",
      "A. 16\n",
      "B. 8\n",
      "C. 4\n",
      "D. 0\n",
      "Correct Answer: A. 16\n",
      "\n",
      "3. What is the correct way to define a function in Python?\n",
      "A. function my_function\n",
      "B. define my_function\n",
      "C. def my_function\n",
      "D. create my_function\n",
      "Correct Answer: C. def my_function\n",
      "\n",
      "4. How do you create a loop in Python?\n",
      "A. With if statements\n",
      "B. With case statements\n",
      "C. With for statements\n",
      "D. With while statements\n",
      "Correct Answer: D. With while statements\n"
     ]
    }
   ],
   "source": [
    "print(response['choices'][0]['text'])\n"
   ]
  },
  {
   "cell_type": "code",
   "execution_count": 142,
   "id": "694b07e9",
   "metadata": {},
   "outputs": [],
   "source": [
    "def create_student_view(test, num_questions):\n",
    "    student_view = {1: \"\"}\n",
    "    question_number = 1\n",
    "    for line in test.split(\"\\n\"):\n",
    "        if not line.startswith(\"Correct Answer: \"):\n",
    "            student_view[question_number] += line + '\\n'\n",
    "        else:\n",
    "            if question_number < num_questions:\n",
    "                question_number += 1\n",
    "                student_view[question_number] = ''\n",
    "    return student_view"
   ]
  },
  {
   "cell_type": "code",
   "execution_count": 143,
   "id": "6b8693c5",
   "metadata": {},
   "outputs": [],
   "source": [
    "result = create_student_view(response['choices'][0]['text'], 4)"
   ]
  },
  {
   "cell_type": "code",
   "execution_count": 144,
   "id": "cc7c34eb",
   "metadata": {},
   "outputs": [
    {
     "name": "stdout",
     "output_type": "stream",
     "text": [
      "\n",
      "\n",
      "Python Quiz\n",
      "\n",
      "1. What is the correct way to write a comment in Python?\n",
      "A. #This is a comment\n",
      "B. /This is a comment\n",
      "C. *This is a comment\n",
      "D. !This is a comment\n",
      "\n",
      "\n",
      "2. What does the following code output? \n",
      "print(4*4)\n",
      "A. 16\n",
      "B. 8\n",
      "C. 4\n",
      "D. 0\n",
      "\n",
      "\n",
      "3. What is the correct way to define a function in Python?\n",
      "A. function my_function\n",
      "B. define my_function\n",
      "C. def my_function\n",
      "D. create my_function\n",
      "\n",
      "\n",
      "4. How do you create a loop in Python?\n",
      "A. With if statements\n",
      "B. With case statements\n",
      "C. With for statements\n",
      "D. With while statements\n",
      "\n"
     ]
    }
   ],
   "source": [
    "for key in result:\n",
    "    print(result[key])"
   ]
  },
  {
   "cell_type": "code",
   "execution_count": 145,
   "id": "668a8321",
   "metadata": {},
   "outputs": [],
   "source": [
    "def extract_answer(test, num_questions):\n",
    "    answers = {1: \"\"}\n",
    "    question_number = 1\n",
    "    for line in test.split(\"\\n\"):\n",
    "        if line.startswith(\"Correct Answer: \"):\n",
    "            answers[question_number] += line + '\\n'\n",
    "            if question_number < num_questions:\n",
    "                question_number += 1\n",
    "                answers[question_number] = ''\n",
    "    return answers"
   ]
  },
  {
   "cell_type": "code",
   "execution_count": 146,
   "id": "72f25d9d",
   "metadata": {},
   "outputs": [
    {
     "data": {
      "text/plain": [
       "{1: 'Correct Answer: A. #This is a comment \\n',\n",
       " 2: 'Correct Answer: A. 16\\n',\n",
       " 3: 'Correct Answer: C. def my_function\\n',\n",
       " 4: 'Correct Answer: D. With while statements\\n'}"
      ]
     },
     "execution_count": 146,
     "metadata": {},
     "output_type": "execute_result"
    }
   ],
   "source": [
    "extract_answer(response['choices'][0]['text'], 4)"
   ]
  },
  {
   "cell_type": "code",
   "execution_count": 147,
   "id": "6b9c7e1f",
   "metadata": {},
   "outputs": [],
   "source": [
    "student_view = create_student_view(response['choices'][0]['text'], 4)"
   ]
  },
  {
   "cell_type": "code",
   "execution_count": 148,
   "id": "83dc7fb9",
   "metadata": {},
   "outputs": [],
   "source": [
    "answers = extract_answer(response['choices'][0]['text'], 4)"
   ]
  },
  {
   "cell_type": "code",
   "execution_count": 149,
   "id": "8a514398",
   "metadata": {},
   "outputs": [],
   "source": [
    "#TAKE THE EXAM\n",
    "def take(student_view):\n",
    "    student_answers = {}\n",
    "    for question, question_view in student_view.items():\n",
    "        print(question_view)\n",
    "        answer = input(\"Enter your answer\")\n",
    "        student_answers[question] = answer\n",
    "    return student_answers"
   ]
  },
  {
   "cell_type": "code",
   "execution_count": 150,
   "id": "90cda5b7",
   "metadata": {},
   "outputs": [
    {
     "name": "stdout",
     "output_type": "stream",
     "text": [
      "\n",
      "\n",
      "Python Quiz\n",
      "\n",
      "1. What is the correct way to write a comment in Python?\n",
      "A. #This is a comment\n",
      "B. /This is a comment\n",
      "C. *This is a comment\n",
      "D. !This is a comment\n",
      "\n",
      "Enter your answera \n",
      "\n",
      "2. What does the following code output? \n",
      "print(4*4)\n",
      "A. 16\n",
      "B. 8\n",
      "C. 4\n",
      "D. 0\n",
      "\n",
      "Enter your answer b\n",
      "\n",
      "3. What is the correct way to define a function in Python?\n",
      "A. function my_function\n",
      "B. define my_function\n",
      "C. def my_function\n",
      "D. create my_function\n",
      "\n",
      "Enter your answer c\n",
      "\n",
      "4. How do you create a loop in Python?\n",
      "A. With if statements\n",
      "B. With case statements\n",
      "C. With for statements\n",
      "D. With while statements\n",
      "\n",
      "Enter your answer d\n"
     ]
    }
   ],
   "source": [
    "student_answers = take(student_view)"
   ]
  },
  {
   "cell_type": "code",
   "execution_count": 151,
   "id": "f0774ddf",
   "metadata": {},
   "outputs": [
    {
     "data": {
      "text/plain": [
       "{1: 'a ', 2: ' b', 3: ' c', 4: ' d'}"
      ]
     },
     "execution_count": 151,
     "metadata": {},
     "output_type": "execute_result"
    }
   ],
   "source": [
    "student_answers"
   ]
  },
  {
   "cell_type": "code",
   "execution_count": 152,
   "id": "cfa7f7c7",
   "metadata": {},
   "outputs": [
    {
     "data": {
      "text/plain": [
       "{1: 'Correct Answer: A. #This is a comment \\n',\n",
       " 2: 'Correct Answer: A. 16\\n',\n",
       " 3: 'Correct Answer: C. def my_function\\n',\n",
       " 4: 'Correct Answer: D. With while statements\\n'}"
      ]
     },
     "execution_count": 152,
     "metadata": {},
     "output_type": "execute_result"
    }
   ],
   "source": [
    "answers"
   ]
  },
  {
   "cell_type": "code",
   "execution_count": 155,
   "id": "285abe88",
   "metadata": {},
   "outputs": [],
   "source": [
    "def grade(correct_answer_dict, student_answers):\n",
    "    correct_answers = 0\n",
    "    for question, answer in student_answers.items():\n",
    "        if answer.upper() == correct_answer_dict[question][16]:\n",
    "            correct_answers += 1\n",
    "    grade = 100 * (correct_answers / len(answer))\n",
    "    \n",
    "    return f\"You got {grade}\""
   ]
  },
  {
   "cell_type": "code",
   "execution_count": 156,
   "id": "0ac07a41",
   "metadata": {},
   "outputs": [
    {
     "data": {
      "text/plain": [
       "'You got 100'"
      ]
     },
     "execution_count": 156,
     "metadata": {},
     "output_type": "execute_result"
    }
   ],
   "source": [
    "grade(answers, student_answers)"
   ]
  },
  {
   "cell_type": "code",
   "execution_count": null,
   "id": "623f1add",
   "metadata": {},
   "outputs": [],
   "source": []
  }
 ],
 "metadata": {
  "kernelspec": {
   "display_name": "Python 3 (ipykernel)",
   "language": "python",
   "name": "python3"
  },
  "language_info": {
   "codemirror_mode": {
    "name": "ipython",
    "version": 3
   },
   "file_extension": ".py",
   "mimetype": "text/x-python",
   "name": "python",
   "nbconvert_exporter": "python",
   "pygments_lexer": "ipython3",
   "version": "3.10.6"
  }
 },
 "nbformat": 4,
 "nbformat_minor": 5
}
